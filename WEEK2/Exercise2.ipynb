{
  "nbformat": 4,
  "nbformat_minor": 0,
  "metadata": {
    "colab": {
      "name": "Exercise2.ipynb",
      "provenance": [],
      "collapsed_sections": []
    },
    "kernelspec": {
      "name": "python3",
      "display_name": "Python 3"
    },
    "language_info": {
      "name": "python"
    }
  },
  "cells": [
    {
      "cell_type": "code",
      "metadata": {
        "colab": {
          "base_uri": "https://localhost:8080/"
        },
        "id": "Uyosd5xgUX29",
        "outputId": "382794f5-968c-4c24-8546-da93c96dd659"
      },
      "source": [
        "def nilai(num):\n",
        "  if num % 2 == 0:\n",
        "    print(num, \"adalah bilangan genap\")\n",
        "  else:\n",
        "    print(num, \"adalah bilangan ganjil\")\n",
        "\n",
        "numb = int(input(\"Masukan Angka: \"))\n",
        "ganjil = nilai(numb)"
      ],
      "execution_count": 23,
      "outputs": [
        {
          "output_type": "stream",
          "name": "stdout",
          "text": [
            "Masukan Angka: 15\n",
            "15 adalah bilangan ganjil\n"
          ]
        }
      ]
    }
  ]
}