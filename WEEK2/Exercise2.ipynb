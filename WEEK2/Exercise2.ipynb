{
  "nbformat": 4,
  "nbformat_minor": 0,
  "metadata": {
    "colab": {
      "name": "Exercise2.ipynb",
      "provenance": [],
      "collapsed_sections": []
    },
    "kernelspec": {
      "name": "python3",
      "display_name": "Python 3"
    },
    "language_info": {
      "name": "python"
    }
  },
  "cells": [
    {
      "cell_type": "code",
      "metadata": {
        "id": "Ht9ue9RHif_K"
      },
      "source": [
        "#Ribka Simanjuntak and Aurelia"
      ],
      "execution_count": null,
      "outputs": []
    },
    {
      "cell_type": "code",
      "metadata": {
        "colab": {
          "base_uri": "https://localhost:8080/"
        },
        "id": "Uyosd5xgUX29",
        "outputId": "778603da-b9e7-4f81-9b62-85a8c6c845f4"
      },
      "source": [
        "def nilai(num):\n",
        "  if num % 2 == 0:\n",
        "    print(num, \"adalah bilangan genap\")\n",
        "  else:\n",
        "    print(num, \"adalah bilangan ganjil\")\n",
        "\n",
        "numb = int(input(\"Masukan Angka: \"))\n",
        "ganjil = nilai(numb)"
      ],
      "execution_count": 28,
      "outputs": [
        {
          "output_type": "stream",
          "name": "stdout",
          "text": [
            "Masukan Angka: 1\n",
            "1 adalah bilangan ganjil\n"
          ]
        }
      ]
    },
    {
      "cell_type": "code",
      "metadata": {
        "colab": {
          "base_uri": "https://localhost:8080/"
        },
        "id": "Rqaml79EenT6",
        "outputId": "227b9926-6732-4743-f556-65120a67393e"
      },
      "source": [
        "def nilai(num):\n",
        "  if num % 2 == 0:\n",
        "    print(num, \"adalah bilangan genap\")\n",
        "  else:\n",
        "    print(num, \"adalah bilangan ganjil\")\n",
        "\n",
        "nilai(1)"
      ],
      "execution_count": 42,
      "outputs": [
        {
          "output_type": "stream",
          "name": "stdout",
          "text": [
            "1 adalah bilangan ganjil\n"
          ]
        }
      ]
    }
  ]
}